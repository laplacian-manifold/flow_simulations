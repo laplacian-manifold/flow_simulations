{
 "cells": [
  {
   "cell_type": "markdown",
   "id": "f78fb95b",
   "metadata": {},
   "source": [
    "# Import"
   ]
  },
  {
   "cell_type": "code",
   "execution_count": null,
   "id": "c4cd6163",
   "metadata": {},
   "outputs": [],
   "source": [
    "import tensorflow as tf\n",
    "from tensorflow import keras\n",
    "from tqdm import tqdm\n",
    "import numpy as np\n",
    "import time\n",
    "\n",
    "import matplotlib.pyplot as plt"
   ]
  },
  {
   "cell_type": "code",
   "execution_count": null,
   "id": "85a07f56",
   "metadata": {},
   "outputs": [],
   "source": [
    "import sys\n",
    "sys.path.append(\"..\")\n",
    "\n",
    "from flow_simulations.flow_sim import compute_solution"
   ]
  },
  {
   "cell_type": "markdown",
   "id": "428f157a",
   "metadata": {},
   "source": [
    "# Neural Network"
   ]
  },
  {
   "cell_type": "code",
   "execution_count": null,
   "id": "1714ca9f",
   "metadata": {},
   "outputs": [],
   "source": [
    "def create_model():\n",
    "    model = keras.Sequential()\n",
    "\n",
    "    for i in range(8):\n",
    "        model.add(keras.layers.Dense(100,\n",
    "                                     name='layer%d_' % i))\n",
    "        model.add(tf.keras.layers.ReLU(max_value=1.0))\n",
    "        \n",
    "    # pv, sw, so, uw, uo\n",
    "    model.add(keras.layers.Dense(5,\n",
    "                                 activation=None,\n",
    "                                 name='layer_out', ))\n",
    "              \n",
    "    return model"
   ]
  },
  {
   "cell_type": "code",
   "execution_count": null,
   "id": "4658155b",
   "metadata": {},
   "outputs": [],
   "source": [
    "def network(model, x, t, alpha_wat=0., alpha_oil=0., training=False):\n",
    "    y = tf.stack([x, t], axis=-1)\n",
    "    return model(y, training)"
   ]
  },
  {
   "cell_type": "code",
   "execution_count": null,
   "id": "0cd2ace3",
   "metadata": {},
   "outputs": [],
   "source": [
    "model = create_model()"
   ]
  },
  {
   "cell_type": "code",
   "execution_count": null,
   "id": "4911eee8-f6fd-4913-ba20-c195dee09e5a",
   "metadata": {},
   "outputs": [],
   "source": [
    "model.summary()"
   ]
  },
  {
   "cell_type": "raw",
   "id": "21dee377-5d41-4242-8d85-86a32ec2af1b",
   "metadata": {},
   "source": [
    "model.load_weights('C:/PBDL/HC_grad_1000_lr_0_002/HC_10000')"
   ]
  },
  {
   "cell_type": "markdown",
   "id": "459431c6",
   "metadata": {},
   "source": [
    "# Visualize"
   ]
  },
  {
   "cell_type": "code",
   "execution_count": null,
   "id": "7916b0ec",
   "metadata": {},
   "outputs": [],
   "source": [
    "x_beg, x_end = 0, 1\n",
    "t_beg, t_end = 0, 1"
   ]
  },
  {
   "cell_type": "code",
   "execution_count": null,
   "id": "659f0239",
   "metadata": {},
   "outputs": [],
   "source": [
    "N = 128\n",
    "grids_xt = np.meshgrid(np.linspace(x_beg, x_end, N), np.linspace(t_beg, t_end, 33), indexing='ij')\n",
    "grid_x, grid_t = [tf.convert_to_tensor(t, tf.float32) for t in grids_xt]\n",
    "\n",
    "# create 4D tensor with batch and channel dimensions in addition to space and time\n",
    "# in this case gives shape=(1, N, 33, 1)\n",
    "# grid_u = tf.expand_dims(network(model, grid_x, grid_t), axis=0)\n",
    "# grid_u.shape"
   ]
  },
  {
   "cell_type": "raw",
   "id": "00ce82aa",
   "metadata": {},
   "source": [
    "grid_x.shape, grid_t.shape"
   ]
  },
  {
   "cell_type": "code",
   "execution_count": null,
   "id": "1dce2c76",
   "metadata": {},
   "outputs": [],
   "source": [
    "def show_state(a, title):\n",
    "    for i in range(4): \n",
    "        a = np.concatenate([a, a], axis=3)\n",
    "    \n",
    "    a = np.reshape(a, [a.shape[1], a.shape[2] * a.shape[3]])\n",
    "    \n",
    "    fig, axes = plt.subplots(1, 1, figsize=(16, 5))\n",
    "    im = axes.imshow(a, origin='upper', cmap='inferno')\n",
    "    \n",
    "    plt.colorbar(im);\n",
    "    plt.xlabel('time');\n",
    "    plt.ylabel('x');\n",
    "    plt.title(title)\n",
    "    plt.show()"
   ]
  },
  {
   "cell_type": "raw",
   "id": "a6aa21c0",
   "metadata": {},
   "source": [
    "print(\"Randomly initialized network state:\")\n",
    "show_state(grid_u[..., :1], \"Uninitialized NN\")"
   ]
  },
  {
   "cell_type": "markdown",
   "id": "318941b3",
   "metadata": {},
   "source": [
    "# Loss"
   ]
  },
  {
   "cell_type": "markdown",
   "id": "50651f6e",
   "metadata": {},
   "source": [
    "## Boundary loss"
   ]
  },
  {
   "cell_type": "markdown",
   "id": "9b5d065b",
   "metadata": {},
   "source": [
    "# boundary condition"
   ]
  },
  {
   "cell_type": "code",
   "execution_count": null,
   "id": "75008312",
   "metadata": {},
   "outputs": [],
   "source": [
    "def zeros(shape):\n",
    "    result = list(map(lambda val: 1 if val is None else val, shape))\n",
    "    return np.array(np.zeros(result, np.int8)).astype(np.float32)\n",
    "\n",
    "def ones(shape):\n",
    "    result = list(map(lambda val: 1 if val is None else val, shape))\n",
    "    return np.array(np.ones(result, np.int8)).astype(np.float32)"
   ]
  },
  {
   "cell_type": "markdown",
   "id": "fca89f02",
   "metadata": {},
   "source": [
    "$$s_w(x>0, t = 0) = 0$$\n",
    "$$s_{oil} = 1 - s_w$$\n",
    "$$p(x, t = 0) = 1 - x$$"
   ]
  },
  {
   "cell_type": "code",
   "execution_count": null,
   "id": "cf96018c",
   "metadata": {},
   "outputs": [],
   "source": [
    "def open_boundary_t(N):\n",
    "    x = np.random.uniform(x_beg + 1e-10, x_end, [N]).astype(np.float32)\n",
    "    t = np.asarray(np.zeros_like(x))\n",
    "    \n",
    "    pv = np.zeros_like(x)\n",
    "    sw = np.zeros_like(x)\n",
    "    so = np.zeros_like(x)\n",
    "    uw = np.zeros_like(x)\n",
    "    uo = np.zeros_like(x)\n",
    "    for idx in range(N):\n",
    "        _, _, _, _, uw[idx], uo[idx] = compute_solution(t[idx], x[idx], nx=100)\n",
    "    \n",
    "    pv = 1 - x.copy()\n",
    "    sw = zeros([N])\n",
    "    so = 1 - sw.copy()\n",
    "    \n",
    "    return x, t, pv, sw, so, uw, uo"
   ]
  },
  {
   "cell_type": "code",
   "execution_count": null,
   "id": "3eb88466",
   "metadata": {},
   "outputs": [],
   "source": [
    "x, t, pv, sw, so, uw, uo = open_boundary_t(10)\n",
    "x, t, sw, so, pv+x, uw, uo"
   ]
  },
  {
   "cell_type": "markdown",
   "id": "ecc01e6a",
   "metadata": {},
   "source": [
    "$$p\\left(x=0, t\\in[0;1]\\right)$$\n",
    "$$s_w\\left(x=0, t\\in[0;1]\\right)=1$$\n",
    "$$p\\left(x=1, t\\in[0;1]\\right)$$\n",
    "$$s_{oil} = 1 - s_w$$"
   ]
  },
  {
   "cell_type": "code",
   "execution_count": null,
   "id": "2f2b5a3c",
   "metadata": {},
   "outputs": [],
   "source": [
    "def open_boundary_x(N):\n",
    "    x = np.concatenate([zeros([N // 2]), zeros([N // 2]) + 1], axis=0)\n",
    "    t = np.random.uniform(t_beg, t_end, [N]).astype(np.float32)\n",
    "    \n",
    "    pv = np.zeros_like(x)\n",
    "    sw = np.zeros_like(x)\n",
    "    so = np.zeros_like(x)\n",
    "    uw = np.zeros_like(x)\n",
    "    uo = np.zeros_like(x)\n",
    "    for idx in range(N):\n",
    "        pv[idx], _, _, so[idx], uw[idx], uo[idx] = compute_solution(t[idx], x[idx], nx=100)\n",
    "    \n",
    "    sw[:N//2] = ones([N//2])\n",
    "    so = 1 - sw.copy()\n",
    "    \n",
    "    return x, t, pv, sw, so, uw, uo"
   ]
  },
  {
   "cell_type": "code",
   "execution_count": null,
   "id": "748aeabe",
   "metadata": {},
   "outputs": [],
   "source": [
    "x, t, pv, sw, so, uw, uo = open_boundary_x(10)\n",
    "x, t, pv, sw, so, uw, uo"
   ]
  },
  {
   "cell_type": "code",
   "execution_count": null,
   "id": "7fb2f10b",
   "metadata": {},
   "outputs": [],
   "source": [
    "def boundary_tx(N):\n",
    "    x = np.linspace(x_beg, x_end, 128)\n",
    "    t = np.asarray(np.ones_like(x)) * 0.5\n",
    "    \n",
    "    pv = np.zeros_like(x)\n",
    "    sw = np.zeros_like(x)\n",
    "    so = np.zeros_like(x)\n",
    "    uw = np.zeros_like(x)\n",
    "    uo = np.zeros_like(x)\n",
    "    for idx in range(N):\n",
    "        pv[idx], _, sw[idx], so[idx], uw[idx], uo[idx] = compute_solution(t[idx], x[idx], nx=100)\n",
    "    \n",
    "    perm = np.random.permutation(128)\n",
    "    return (x[perm])[0:N], (t[perm])[0:N], (pv[perm])[0:N], \\\n",
    "            (sw[perm])[0:N], (so[perm])[0:N], (uw[perm])[0:N], (uo[perm])[0:N]\n",
    "\n",
    "def _ALT_t0(N):  # alternative, impose original initial state at t=0\n",
    "    x = rnd.random_uniform(-1, 1, N)\n",
    "    t = rnd.zeros_like(x)\n",
    "    u = - math.sin(np.pi * x)\n",
    "    return x, t, u"
   ]
  },
  {
   "cell_type": "code",
   "execution_count": null,
   "id": "18bfed68",
   "metadata": {},
   "outputs": [],
   "source": [
    "def div(numerator, denominator):\n",
    "    return tf.cast(numerator, np.float32) / tf.cast(denominator, np.float32)\n",
    "\n",
    "def l_n_loss(tensor, n, batch_norm=True):\n",
    "    total_loss = tf.reduce_sum(tensor ** n) / n\n",
    "    if batch_norm:\n",
    "        batch_size = tf.shape(tensor)[0]\n",
    "        return div(total_loss, batch_size)\n",
    "    else:\n",
    "        return total_loss\n",
    "\n",
    "def l2_loss(tensor):\n",
    "    return l_n_loss(tensor, 2, batch_norm=True)   # normalizes by first dimension, N_bc"
   ]
  },
  {
   "cell_type": "code",
   "execution_count": null,
   "id": "90702fa9",
   "metadata": {},
   "outputs": [],
   "source": [
    "N_SAMPLE_POINTS_BND = 100\n",
    "\n",
    "x_bc, t_bc, pv_bc, sw_bc, so_bc, uw_bc, uo_bc = [np.concatenate([v_t0, v_x0, v_x], axis=0)\n",
    "                    for v_t0, v_x0, v_x in zip(open_boundary_t(N_SAMPLE_POINTS_BND),\n",
    "                                               open_boundary_x(N_SAMPLE_POINTS_BND),\n",
    "                                               boundary_tx(N_SAMPLE_POINTS_BND))]\n",
    "\n",
    "x_bc, t_bc, pv_bc, sw_bc, so_bc, uw_bc, uo_bc = \\\n",
    "                    (np.asarray(x_bc, dtype=np.float32),\n",
    "                     np.asarray(t_bc, dtype=np.float32),\n",
    "                     np.asarray(pv_bc, dtype=np.float32),\n",
    "                     np.asarray(sw_bc, dtype=np.float32),\n",
    "                     np.asarray(so_bc, dtype=np.float32),\n",
    "                     np.asarray(uw_bc, dtype=np.float32),\n",
    "                     np.asarray(uo_bc, dtype=np.float32))\n",
    "\n",
    "res_bc = np.stack([pv_bc, sw_bc, so_bc, uw_bc, uo_bc], axis=1)\n",
    "\n",
    "# with app.model_scope():\n",
    "loss_init_bc = l2_loss(network(model, x_bc, t_bc) - res_bc)\n",
    "loss_init_bc"
   ]
  },
  {
   "cell_type": "raw",
   "id": "95ded7e7",
   "metadata": {},
   "source": [
    "compute_solution(0.5, 0.81889766, nx=100), sw_bc[200:300], pv_bc[200:300], x_bc[200:300], t_bc[200: 300]"
   ]
  },
  {
   "cell_type": "markdown",
   "id": "b7f8b696",
   "metadata": {},
   "source": [
    "## Physics loss inside of domain"
   ]
  },
  {
   "cell_type": "markdown",
   "id": "55bf40c8",
   "metadata": {},
   "source": [
    "$s_t, s_x, p_x, u_x$\n",
    "\n",
    "$$f = (\\phi \\cdot s_t + u_x)^2 + \\left(u + \\frac{k(s)p_x}{\\mu \\cdot }\\right)^2$$\n",
    "\n",
    "$$loss = f_w + f_{oil}$$\n",
    "\n",
    "$\\alpha\\in [1..6]$ - случайным образом"
   ]
  },
  {
   "cell_type": "code",
   "execution_count": null,
   "id": "e4f28d6c",
   "metadata": {},
   "outputs": [],
   "source": [
    "# pv, sw, so, uw, uo\n",
    "def k_wat(s, alpha_wat=2.0, k=1.0):\n",
    "    eps = 1.0e-10\n",
    "    sp = (s + eps) / (1.0 + eps)\n",
    "    return k * (sp ** alpha_wat)\n",
    "\n",
    "def k_oil(s, alpha_oil=4.0, k=0.1):\n",
    "    eps = 1.0e-10\n",
    "    sp = (s + eps) / (1.0 + eps)\n",
    "    return k * (sp ** alpha_oil)\n",
    "\n",
    "def f_water(model, x, t, training=False):\n",
    "    \"\"\" Physics-based loss function\"\"\"\n",
    "    with tf.GradientTape() as tape:\n",
    "        s = network(model, x, t, training)[:, 1]\n",
    "    s_t = tf.cast(tape.gradient(s, t), np.float32)    \n",
    "\n",
    "    with tf.GradientTape() as t1:\n",
    "        u = network(model, x, t, training)[:, 3]\n",
    "    u_x = tf.cast(t1.gradient(u, x), np.float32)\n",
    "    \n",
    "    with tf.GradientTape() as t1:\n",
    "        p = network(model, x, t, training)[:, 0]\n",
    "    p_x = tf.cast(t1.gradient(p, x), np.float32)\n",
    "    \n",
    "    phi = 0.1\n",
    "    mu = 1\n",
    "        \n",
    "    return (phi * s_t + u_x)**2 + (u + k_wat(s) * p_x / mu)**2\n",
    "\n",
    "def f_oil(model, x, t, training=False):\n",
    "    \"\"\" Physics-based loss function\"\"\"\n",
    "    with tf.GradientTape() as tape:\n",
    "        s = network(model, x, t, training)[:, 2]\n",
    "    s_t = tf.cast(tape.gradient(s, t), np.float32)    \n",
    "\n",
    "    with tf.GradientTape() as t1:\n",
    "        u = network(model, x, t, training)[:, 4]\n",
    "    u_x = tf.cast(t1.gradient(u, x), np.float32)\n",
    "    \n",
    "    with tf.GradientTape() as t1:\n",
    "        p = network(model, x, t, training)[:, 0]\n",
    "    p_x = tf.cast(t1.gradient(p, x), np.float32)\n",
    "    \n",
    "    phi = 0.1\n",
    "    mu = 3\n",
    "        \n",
    "    return (phi * s_t + u_x)**2 + (u + k_oil(s)* p_x / (mu))**2"
   ]
  },
  {
   "cell_type": "raw",
   "id": "4008db97",
   "metadata": {},
   "source": [
    "нормировка по лосс, который получен при инициализации\n",
    "длина градиента в нейронке была одинакова"
   ]
  },
  {
   "cell_type": "code",
   "execution_count": null,
   "id": "9362b497",
   "metadata": {},
   "outputs": [],
   "source": [
    "# Physics loss inside of domain\n",
    "N_SAMPLE_POINTS_INNER = 1000\n",
    "x_ph, t_ph = (tf.Variable(np.random.uniform(x_beg, x_end, [N_SAMPLE_POINTS_INNER])),\n",
    "              tf.Variable(np.random.uniform(t_beg, t_end, [N_SAMPLE_POINTS_INNER])))\n",
    "\n",
    "loss_init_ph = l2_loss(f_water(model, x_ph, t_ph) + f_oil(model, x_ph, t_ph))  # normalizes by first dimension, N_ph\n",
    "loss_init_ph"
   ]
  },
  {
   "cell_type": "markdown",
   "id": "d090c60d",
   "metadata": {},
   "source": [
    "## Result Loss"
   ]
  },
  {
   "cell_type": "code",
   "execution_count": null,
   "id": "4559b5cc",
   "metadata": {},
   "outputs": [],
   "source": [
    "# Combine\n",
    "ph_factor = 1. # get_loss_factor(loss_init_ph)\n",
    "loss_value = loss_init_bc + ph_factor * loss_init_ph  # allows us to control the relative influence of loss_ph\n",
    "loss_value, ph_factor"
   ]
  },
  {
   "cell_type": "markdown",
   "id": "8fe9285b",
   "metadata": {},
   "source": [
    "# Fit"
   ]
  },
  {
   "cell_type": "code",
   "execution_count": null,
   "id": "9b596b3a",
   "metadata": {},
   "outputs": [],
   "source": [
    "lr = 0.02\n",
    "optimizer = keras.optimizers.SGD(learning_rate=lr)"
   ]
  },
  {
   "cell_type": "code",
   "execution_count": null,
   "id": "ca2c05e5",
   "metadata": {
    "scrolled": true
   },
   "outputs": [],
   "source": [
    "# ph_factor recalculate\n",
    "start = time.time()\n",
    "ITERS = 1000000\n",
    "INNER_ITTERS = 10000\n",
    "\n",
    "history_LU = []\n",
    "history_LPh = []\n",
    "history_L2 = []\n",
    "\n",
    "grd_ph_factor = 1000\n",
    "\n",
    "for epochs in range(ITERS+1):\n",
    "    x_bc, t_bc, pv_bc, sw_bc, so_bc, uw_bc, uo_bc = [np.concatenate([v_t0, v_x0, v_x], axis=0)\n",
    "                    for v_t0, v_x0, v_x in zip(open_boundary_t(N_SAMPLE_POINTS_BND),\n",
    "                                               open_boundary_x(N_SAMPLE_POINTS_BND),\n",
    "                                               boundary_tx(N_SAMPLE_POINTS_BND))]\n",
    "    x_bc, t_bc, pv_bc, sw_bc, so_bc, uw_bc, uo_bc = \\\n",
    "                        (np.asarray(x_bc, dtype=np.float32),\n",
    "                         np.asarray(t_bc, dtype=np.float32),\n",
    "                         np.asarray(pv_bc, dtype=np.float32),\n",
    "                         np.asarray(sw_bc, dtype=np.float32),\n",
    "                         np.asarray(so_bc, dtype=np.float32),\n",
    "                         np.asarray(uw_bc, dtype=np.float32),\n",
    "                         np.asarray(uo_bc, dtype=np.float32))\n",
    "    res_bc = np.stack([pv_bc, sw_bc, so_bc, uw_bc, uo_bc], axis=1)\n",
    "    \n",
    "    loss_init_bc = l2_loss(network(model, x_bc, t_bc) - res_bc)\n",
    "\n",
    "    x_ph, t_ph = (tf.Variable(np.random.uniform(x_beg, x_end, [N_SAMPLE_POINTS_INNER])),\n",
    "              tf.Variable(np.random.uniform(t_beg, t_end, [N_SAMPLE_POINTS_INNER])))\n",
    "\n",
    "    loss_init_ph = l2_loss(f_water(model, x_ph, t_ph) + f_oil(model, x_ph, t_ph))  # normalizes by first dimension, N_ph\n",
    "\n",
    "    print(f\"loss_init_bc: {loss_init_bc}; loss_init_ph: {loss_init_ph}\")\n",
    "\n",
    "    if loss_init_bc < 1e-3: \n",
    "        grd_ph_factor /= 10.\n",
    "        lr /= 10.\n",
    "        optimizer = keras.optimizers.SGD(learning_rate=lr)\n",
    "        print('learning_rate:%f; grd_ph_factor:%d ' % (lr, grd_ph_factor))\n",
    "    \n",
    "    for optim_step in range(INNER_ITTERS+1):\n",
    "        with tf.GradientTape() as tape1:\n",
    "            val_bc = network(model, x_bc, t_bc, False)\n",
    "            loss_bc = tf.math.log(l2_loss(val_bc - res_bc) + loss_init_bc) - tf.math.log(loss_init_bc)\n",
    "            history_LU.append(loss_bc)\n",
    "            \n",
    "            val_ph = f_water(model, x_ph, t_ph, False) + f_oil(model, x_ph, t_ph, False)\n",
    "            loss_ph = l2_loss(val_ph)\n",
    "            history_LPh.append(loss_ph)\n",
    "            \n",
    "            loss_bc_grad_free = np.log(l2_loss(val_bc - res_bc) + loss_init_bc) - np.log(loss_init_bc)\n",
    "            ph_factor = 1 / (1+loss_bc_grad_free * grd_ph_factor)\n",
    "            loss_value = loss_bc + ph_factor * loss_ph\n",
    "            history_L2.append(loss_value)\n",
    "        \n",
    "        grads = tape1.gradient(loss_value, model.trainable_weights)\n",
    "        optimizer.apply_gradients(zip(grads, model.trainable_weights))\n",
    "\n",
    "        if optim_step > 0 and optim_step % 100 == 0 and loss_ph < 1:\n",
    "            x_ph, t_ph = (tf.Variable(np.random.uniform(x_beg, x_end, [N_SAMPLE_POINTS_INNER])),\n",
    "                          tf.Variable(np.random.uniform(t_beg, t_end, [N_SAMPLE_POINTS_INNER])))\n",
    "    \n",
    "            loss_init_ph = l2_loss(f_water(model, x_ph, t_ph) + f_oil(model, x_ph, t_ph))  # normalizes by first dimension, N_ph\n",
    "            print('Step %d, loss: %f = loss_bc:%f + loss_ph:%f * ph_factor:%f' % (optim_step, loss_value, loss_bc, loss_ph, ph_factor))\n",
    "            print(f\"loss_init_bc: {loss_init_bc}; loss_init_ph: {loss_init_ph}\")\n",
    "        \n",
    "        if optim_step<3 or optim_step % 1000 == 0:\n",
    "            print('Step %d, loss: %f = loss_bc:%f + loss_ph:%f * ph_factor:%f; grd_ph_factor:%f' % (optim_step, loss_value, loss_bc, loss_ph, ph_factor, grd_ph_factor))\n",
    "            model.save_weights(f\"C:/PBDL/HC_grad_{grd_ph_factor}_lr_{str(lr).replace('.', '_')}/HC_{optim_step}\")\n",
    "\n",
    "        if np.abs(loss_value) < 1e-4:\n",
    "            print('Step %d , loss: %f ' % (optim_step,loss_value))\n",
    "            break\n",
    "\n",
    "# end = time.time()\n",
    "# print(\"Runtime {:.2f} s\".format(end-start))"
   ]
  }
 ],
 "metadata": {
  "kernelspec": {
   "display_name": "Python 3 (ipykernel)",
   "language": "python",
   "name": "python3"
  },
  "language_info": {
   "codemirror_mode": {
    "name": "ipython",
    "version": 3
   },
   "file_extension": ".py",
   "mimetype": "text/x-python",
   "name": "python",
   "nbconvert_exporter": "python",
   "pygments_lexer": "ipython3",
   "version": "3.10.13"
  }
 },
 "nbformat": 4,
 "nbformat_minor": 5
}
